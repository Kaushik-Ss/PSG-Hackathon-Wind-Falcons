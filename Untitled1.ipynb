{
 "cells": [
  {
   "cell_type": "code",
   "execution_count": 9,
   "id": "33837b03-6f25-4621-926b-6c7c290f0a0f",
   "metadata": {},
   "outputs": [],
   "source": [
    "import pandas as pd\n",
    "def geocode(m):\n",
    "    import requests\n",
    "    import urllib.parse\n",
    "\n",
    "    address = m\n",
    "    url = 'https://nominatim.openstreetmap.org/search/' + urllib.parse.quote(address) +'?format=json'\n",
    "\n",
    "    response = requests.get(url).json()\n",
    "    try:\n",
    "        return [response[0][\"lon\"],response[0][\"lat\"]]\n",
    "    except:\n",
    "        return (0,0)"
   ]
  },
  {
   "cell_type": "code",
   "execution_count": 10,
   "id": "f3f7ce5d-e2d2-4fcd-8799-270c54290a3f",
   "metadata": {},
   "outputs": [],
   "source": [
    "\n",
    "def partition(points, left, right):\n",
    "        \"\"\"Partition the list around the pivot value\"\"\"\n",
    "        pivot = choose_pivot(points, left, right)\n",
    "        pivot_dist = squared_distance(pivot)\n",
    "        while left < right:\n",
    "            # Iterate through the range and swap elements to make sure\n",
    "            # that all points closer than the pivot are to the left\n",
    "            if squared_distance(points[left]) >= pivot_dist:\n",
    "                points[left], points[right] = points[right], points[left]\n",
    "                right -= 1\n",
    "            else:\n",
    "                left += 1\n",
    "        \n",
    "        # Ensure the left pointer is just past the end of\n",
    "        # the left range then return it as the new pivotIndex\n",
    "        if squared_distance(points[left]) < pivot_dist:\n",
    "            left += 1\n",
    "        return left\n"
   ]
  },
  {
   "cell_type": "code",
   "execution_count": 11,
   "id": "83fc3313-b724-4653-9ede-7b60b25ccbfd",
   "metadata": {},
   "outputs": [],
   "source": [
    "def quick_select(points, k):\n",
    "        \"\"\"Perform the QuickSelect algorithm on the list\"\"\"\n",
    "        left, right = 0, len(points) - 1\n",
    "        pivot_index = len(points)\n",
    "        while pivot_index != k:\n",
    "            # Repeatedly partition the list\n",
    "            # while narrowing in on the kth element\n",
    "            pivot_index = partition(points, left, right)\n",
    "            if pivot_index < k:\n",
    "                left = pivot_index\n",
    "            else:\n",
    "                right = pivot_index - 1\n",
    "        \n",
    "        # Return the first k elements of the partially sorted list\n",
    "        return points[:k]\n",
    "    "
   ]
  },
  {
   "cell_type": "code",
   "execution_count": 12,
   "id": "2bdb47c9-6856-4282-acfd-aa8012e0c09c",
   "metadata": {},
   "outputs": [],
   "source": [
    "    \n",
    "def choose_pivot(points, left, right):\n",
    "        \"\"\"Choose a pivot element of the list\"\"\"\n",
    "        return points[left + (right - left) // 2]\n",
    "\n",
    "# for i in k:\n",
    "#   d[(i[0]+' '+i[1]).tolower()]=i[-1]\n",
    "# for i in\n",
    "\n",
    "\n"
   ]
  },
  {
   "cell_type": "code",
   "execution_count": 13,
   "id": "19d3460f-ff89-4105-8a21-d109d180ecc5",
   "metadata": {},
   "outputs": [],
   "source": [
    "def squared_distance(point):\n",
    "        \"\"\"Calculate and return the squared Euclidean distance.\"\"\"\n",
    "        return point[0] ** 2 + point[1] ** 2"
   ]
  },
  {
   "cell_type": "code",
   "execution_count": 14,
   "id": "d6569695-e7ec-4eac-a383-4c1b9728de61",
   "metadata": {},
   "outputs": [],
   "source": [
    "\n",
    "def get_5(points,curr):\n",
    "    m=kClosest(points)\n",
    "    m1=[[0,0],[0,0]]\n",
    "    m1[0][0]=m[0][0]+curr[0]\n",
    "    m1[0][1]=m[0][1]+curr[1]\n",
    "    m1[1][0]=m[1][0]+curr[0]\n",
    "    m1[1][1]=m[1][1]+curr[1]\n",
    "    return m1"
   ]
  },
  {
   "cell_type": "code",
   "execution_count": null,
   "id": "12fa4571-48f4-4360-b722-697d8cb3a00b",
   "metadata": {},
   "outputs": [],
   "source": [
    "def get_val(val):\n",
    "    data = pd.read_csv(\"2013.csv\")\n",
    "    data.head()\n",
    "    k=data.values.tolist()\n",
    "    pts=[]\n",
    "    for i in k:\n",
    "        pts.append(geocode(i[0]+' '+i[1]))\n",
    "    points=[]\n",
    "    print(pts)\n",
    "\n",
    "    for i in pts:\n",
    "        points.append(i[1])\n",
    "    city_n=[]\n",
    "    for i in pts:\n",
    "        city_n.append(i[0])\n",
    "    c=[]\n",
    "    df = pd.DataFrame({'Points': points,\n",
    "                   'Latitude': city_n})\n",
    "    df.to_csv('loc.csv')\n",
    "\n",
    "    df = pd.read_csv('loc.csv')\n",
    "    \n",
    "    city_n = df.loc[:,[\"Points\"]].values.tolist()\n",
    "    points = df.loc[:,[\"Latitude\"]].values.tolist()    \n",
    "    \n",
    "    print(city_n)\n",
    "    print(points)\n",
    "\n",
    "    for i in get_5(points,val):\n",
    "        c.append(city_n[points.index(i)])\n",
    "    # print(c)\n",
    "    return c\n",
    "get_val([1,3])\n"
   ]
  }
 ],
 "metadata": {
  "kernelspec": {
   "display_name": "Python 3",
   "language": "python",
   "name": "python3"
  },
  "language_info": {
   "codemirror_mode": {
    "name": "ipython",
    "version": 3
   },
   "file_extension": ".py",
   "mimetype": "text/x-python",
   "name": "python",
   "nbconvert_exporter": "python",
   "pygments_lexer": "ipython3",
   "version": "3.9.2"
  }
 },
 "nbformat": 4,
 "nbformat_minor": 5
}
